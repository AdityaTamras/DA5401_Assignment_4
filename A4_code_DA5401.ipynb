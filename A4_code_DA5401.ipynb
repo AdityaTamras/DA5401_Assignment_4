{
  "nbformat": 4,
  "nbformat_minor": 0,
  "metadata": {
    "colab": {
      "provenance": []
    },
    "kernelspec": {
      "name": "python3",
      "display_name": "Python 3"
    },
    "language_info": {
      "name": "python"
    }
  },
  "cells": [
    {
      "cell_type": "code",
      "execution_count": 2,
      "metadata": {
        "id": "ldAj_BrQE2qC"
      },
      "outputs": [],
      "source": [
        "import numpy as np\n",
        "import pandas as pd\n",
        "import matplotlib.pyplot as plt\n",
        "import seaborn as sns\n",
        "from sklearn.model_selection import train_test_split\n",
        "from sklearn.linear_model import LogisticRegression\n",
        "from sklearn.metrics import classification_report, confusion_matrix, accuracy_score, precision_score, recall_score, f1_score, precision_recall_curve\n",
        "from sklearn.mixture import GaussianMixture\n",
        "from imblearn.under_sampling import ClusterCentroids\n",
        "from sklearn.cluster import KMeans"
      ]
    },
    {
      "cell_type": "code",
      "source": [
        "!unzip /content/credit_card_dataset.zip"
      ],
      "metadata": {
        "colab": {
          "base_uri": "https://localhost:8080/"
        },
        "id": "FaVRobNkFPcl",
        "outputId": "f5bd5e01-01b5-42ea-e1d6-271cd8c5332d"
      },
      "execution_count": 3,
      "outputs": [
        {
          "output_type": "stream",
          "name": "stdout",
          "text": [
            "Archive:  /content/credit_card_dataset.zip\n",
            "replace creditcard.csv? [y]es, [n]o, [A]ll, [N]one, [r]ename: N\n"
          ]
        }
      ]
    },
    {
      "cell_type": "markdown",
      "source": [
        "# Part A : Baseline Model and Data Analysis"
      ],
      "metadata": {
        "id": "4zNbnQMdJGep"
      }
    },
    {
      "cell_type": "code",
      "source": [
        "credit_card_df=pd.read_csv('/content/creditcard.csv')"
      ],
      "metadata": {
        "id": "t81NJ98jHAfE"
      },
      "execution_count": 5,
      "outputs": []
    },
    {
      "cell_type": "code",
      "source": [
        "class_counts=credit_card_df['Class'].value_counts()\n",
        "print(\"No. of fair transactions = \", class_counts[0])\n",
        "print(\"No. of fraud transactions = \", class_counts[1])\n",
        "labels=['Fair transaction (0)', 'Fraudulent transaction (1)']\n",
        "plt.figure()\n",
        "plt.pie(class_counts, labels=labels, autopct='%1.1f%%', startangle=90, colors=['#66b3ff','#ff9999'])\n",
        "plt.title('Class Distribution')\n",
        "plt.show()"
      ],
      "metadata": {
        "colab": {
          "base_uri": "https://localhost:8080/",
          "height": 463
        },
        "id": "dIDI5zGlHRrW",
        "outputId": "29190e3a-f13d-4024-84eb-6caffe1c72d5"
      },
      "execution_count": 6,
      "outputs": [
        {
          "output_type": "stream",
          "name": "stdout",
          "text": [
            "No. of fair transactions =  284315\n",
            "No. of fraud transactions =  492\n"
          ]
        },
        {
          "output_type": "display_data",
          "data": {
            "text/plain": [
              "<Figure size 640x480 with 1 Axes>"
            ],
            "image/png": "[encoded data removed]"
          },
          "metadata": {}
        }
      ]
    },
    {
      "cell_type": "code",
      "source": [
        "X=credit_card_df.drop(columns=['Class'])\n",
        "y=credit_card_df['Class']\n",
        "\n",
        "X_train, X_test, y_train, y_test = train_test_split(X, y, test_size=0.2, random_state=42, stratify=y) # stratify=y ensures that the test set retains the original imbalance ratio in the training and testing data\n",
        "\n",
        "model_1=LogisticRegression()\n",
        "model_1.fit(X_train, y_train)"
      ],
      "metadata": {
        "colab": {
          "base_uri": "https://localhost:8080/",
          "height": 219
        },
        "id": "FjDTUU7vH67a",
        "outputId": "ce5b746c-9ce4-4e1e-8dcd-788c1b27d691"
      },
      "execution_count": 7,
      "outputs": [
        {
          "output_type": "stream",
          "name": "stderr",
          "text": [
            "/usr/local/lib/python3.12/dist-packages/sklearn/linear_model/_logistic.py:465: ConvergenceWarning: lbfgs failed to converge (status=1):\n",
            "STOP: TOTAL NO. OF ITERATIONS REACHED LIMIT.\n",
            "\n",
            "Increase the number of iterations (max_iter) or scale the data as shown in:\n",
            "    https://scikit-learn.org/stable/modules/preprocessing.html\n",
            "Please also refer to the documentation for alternative solver options:\n",
            "    https://scikit-learn.org/stable/modules/linear_model.html#logistic-regression\n",
            "  n_iter_i = _check_optimize_result(\n"
          ]
        },
        {
          "output_type": "execute_result",
          "data": {
            "text/plain": [
              "LogisticRegression()"
            ],
            "text/html": [
              "<style>#sk-container-id-1 {\n",
              "  /* Definition of color scheme common for light and dark mode */\n",
              "  --sklearn-color-text: #000;\n",
              "  --sklearn-color-text-muted: #666;\n",
              "  --sklearn-color-line: gray;\n",
              "  /* Definition of color scheme for unfitted estimators */\n",
              "  --sklearn-color-unfitted-level-0: #fff5e6;\n",
              "  --sklearn-color-unfitted-level-1: #f6e4d2;\n",
              "  --sklearn-color-unfitted-level-2: #ffe0b3;\n",
              "  --sklearn-color-unfitted-level-3: chocolate;\n",
              "  /* Definition of color scheme for fitted estimators */\n",
              "  --sklearn-color-fitted-level-0: #f0f8ff;\n",
              "  --sklearn-color-fitted-level-1: #d4ebff;\n",
              "  --sklearn-color-fitted-level-2: #b3dbfd;\n",
              "  --sklearn-color-fitted-level-3: cornflowerblue;\n",
              "\n",
              "  /* Specific color for light theme */\n",
              "  --sklearn-color-text-on-default-background: var(--sg-text-color, var(--theme-code-foreground, var(--jp-content-font-color1, black)));\n",
              "  --sklearn-color-background: var(--sg-background-color, var(--theme-background, var(--jp-layout-color0, white)));\n",
              "  --sklearn-color-border-box: var(--sg-text-color, var(--theme-code-foreground, var(--jp-content-font-color1, black)));\n",
              "  --sklearn-color-icon: #696969;\n",
              "\n",
              "  @media (prefers-color-scheme: dark) {\n",
              "    /* Redefinition of color scheme for dark theme */\n",
              "    --sklearn-color-text-on-default-background: var(--sg-text-color, var(--theme-code-foreground, var(--jp-content-font-color1, white)));\n",
              "    --sklearn-color-background: var(--sg-background-color, var(--theme-background, var(--jp-layout-color0, #111)));\n",
              "    --sklearn-color-border-box: var(--sg-text-color, var(--theme-code-foreground, var(--jp-content-font-color1, white)));\n",
              "    --sklearn-color-icon: #878787;\n",
              "  }\n",
              "}\n",
              "\n",
              "#sk-container-id-1 {\n",
              "  color: var(--sklearn-color-text);\n",
              "}\n",
              "\n",
              "#sk-container-id-1 pre {\n",
              "  padding: 0;\n",
              "}\n",
              "\n",
              "#sk-container-id-1 input.sk-hidden--visually {\n",
              "  border: 0;\n",
              "  clip: rect(1px 1px 1px 1px);\n",
              "  clip: rect(1px, 1px, 1px, 1px);\n",
              "  height: 1px;\n",
              "  margin: -1px;\n",
              "  overflow: hidden;\n",
              "  padding: 0;\n",
              "  position: absolute;\n",
              "  width: 1px;\n",
              "}\n",
              "\n",
              "#sk-container-id-1 div.sk-dashed-wrapped {\n",
              "  border: 1px dashed var(--sklearn-color-line);\n",
              "  margin: 0 0.4em 0.5em 0.4em;\n",
              "  box-sizing: border-box;\n",
              "  padding-bottom: 0.4em;\n",
              "  background-color: var(--sklearn-color-background);\n",
              "}\n",
              "\n",
              "#sk-container-id-1 div.sk-container {\n",
              "  /* jupyter's `normalize.less` sets `[hidden] { display: none; }`\n",
              "     but bootstrap.min.css set `[hidden] { display: none !important; }`\n",
              "     so we also need the `!important` here to be able to override the\n",
              "     default hidden behavior on the sphinx rendered scikit-learn.org.\n",
              "     See: https://github.com/scikit-learn/scikit-learn/issues/21755 */\n",
              "  display: inline-block !important;\n",
              "  position: relative;\n",
              "}\n",
              "\n",
              "#sk-container-id-1 div.sk-text-repr-fallback {\n",
              "  display: none;\n",
              "}\n",
              "\n",
              "div.sk-parallel-item,\n",
              "div.sk-serial,\n",
              "div.sk-item {\n",
              "  /* draw centered vertical line to link estimators */\n",
              "  background-image: linear-gradient(var(--sklearn-color-text-on-default-background), var(--sklearn-color-text-on-default-background));\n",
              "  background-size: 2px 100%;\n",
              "  background-repeat: no-repeat;\n",
              "  background-position: center center;\n",
              "}\n",
              "\n",
              "/* Parallel-specific style estimator block */\n",
              "\n",
              "#sk-container-id-1 div.sk-parallel-item::after {\n",
              "  content: \"\";\n",
              "  width: 100%;\n",
              "  border-bottom: 2px solid var(--sklearn-color-text-on-default-background);\n",
              "  flex-grow: 1;\n",
              "}\n",
              "\n",
              "#sk-container-id-1 div.sk-parallel {\n",
              "  display: flex;\n",
              "  align-items: stretch;\n",
              "  justify-content: center;\n",
              "  background-color: var(--sklearn-color-background);\n",
              "  position: relative;\n",
              "}\n",
              "\n",
              "#sk-container-id-1 div.sk-parallel-item {\n",
              "  display: flex;\n",
              "  flex-direction: column;\n",
              "}\n",
              "\n",
              "#sk-container-id-1 div.sk-parallel-item:first-child::after {\n",
              "  align-self: flex-end;\n",
              "  width: 50%;\n",
              "}\n",
              "\n",
              "#sk-container-id-1 div.sk-parallel-item:last-child::after {\n",
              "  align-self: flex-start;\n",
              "  width: 50%;\n",
              "}\n",
              "\n",
              "#sk-container-id-1 div.sk-parallel-item:only-child::after {\n",
              "  width: 0;\n",
              "}\n",
              "\n",
              "/* Serial-specific style estimator block */\n",
              "\n",
              "#sk-container-id-1 div.sk-serial {\n",
              "  display: flex;\n",
              "  flex-direction: column;\n",
              "  align-items: center;\n",
              "  background-color: var(--sklearn-color-background);\n",
              "  padding-right: 1em;\n",
              "  padding-left: 1em;\n",
              "}\n",
              "\n",
              "\n",
              "/* Toggleable style: style used for estimator/Pipeline/ColumnTransformer box that is\n",
              "clickable and can be expanded/collapsed.\n",
              "- Pipeline and ColumnTransformer use this feature and define the default style\n",
              "- Estimators will overwrite some part of the style using the `sk-estimator` class\n",
              "*/\n",
              "\n",
              "/* Pipeline and ColumnTransformer style (default) */\n",
              "\n",
              "#sk-container-id-1 div.sk-toggleable {\n",
              "  /* Default theme specific background. It is overwritten whether we have a\n",
              "  specific estimator or a Pipeline/ColumnTransformer */\n",
              "  background-color: var(--sklearn-color-background);\n",
              "}\n",
              "\n",
              "/* Toggleable label */\n",
              "#sk-container-id-1 label.sk-toggleable__label {\n",
              "  cursor: pointer;\n",
              "  display: flex;\n",
              "  width: 100%;\n",
              "  margin-bottom: 0;\n",
              "  padding: 0.5em;\n",
              "  box-sizing: border-box;\n",
              "  text-align: center;\n",
              "  align-items: start;\n",
              "  justify-content: space-between;\n",
              "  gap: 0.5em;\n",
              "}\n",
              "\n",
              "#sk-container-id-1 label.sk-toggleable__label .caption {\n",
              "  font-size: 0.6rem;\n",
              "  font-weight: lighter;\n",
              "  color: var(--sklearn-color-text-muted);\n",
              "}\n",
              "\n",
              "#sk-container-id-1 label.sk-toggleable__label-arrow:before {\n",
              "  /* Arrow on the left of the label */\n",
              "  content: \"▸\";\n",
              "  float: left;\n",
              "  margin-right: 0.25em;\n",
              "  color: var(--sklearn-color-icon);\n",
              "}\n",
              "\n",
              "#sk-container-id-1 label.sk-toggleable__label-arrow:hover:before {\n",
              "  color: var(--sklearn-color-text);\n",
              "}\n",
              "\n",
              "/* Toggleable content - dropdown */\n",
              "\n",
              "#sk-container-id-1 div.sk-toggleable__content {\n",
              "  max-height: 0;\n",
              "  max-width: 0;\n",
              "  overflow: hidden;\n",
              "  text-align: left;\n",
              "  /* unfitted */\n",
              "  background-color: var(--sklearn-color-unfitted-level-0);\n",
              "}\n",
              "\n",
              "#sk-container-id-1 div.sk-toggleable__content.fitted {\n",
              "  /* fitted */\n",
              "  background-color: var(--sklearn-color-fitted-level-0);\n",
              "}\n",
              "\n",
              "#sk-container-id-1 div.sk-toggleable__content pre {\n",
              "  margin: 0.2em;\n",
              "  border-radius: 0.25em;\n",
              "  color: var(--sklearn-color-text);\n",
              "  /* unfitted */\n",
              "  background-color: var(--sklearn-color-unfitted-level-0);\n",
              "}\n",
              "\n",
              "#sk-container-id-1 div.sk-toggleable__content.fitted pre {\n",
              "  /* unfitted */\n",
              "  background-color: var(--sklearn-color-fitted-level-0);\n",
              "}\n",
              "\n",
              "#sk-container-id-1 input.sk-toggleable__control:checked~div.sk-toggleable__content {\n",
              "  /* Expand drop-down */\n",
              "  max-height: 200px;\n",
              "  max-width: 100%;\n",
              "  overflow: auto;\n",
              "}\n",
              "\n",
              "#sk-container-id-1 input.sk-toggleable__control:checked~label.sk-toggleable__label-arrow:before {\n",
              "  content: \"▾\";\n",
              "}\n",
              "\n",
              "/* Pipeline/ColumnTransformer-specific style */\n",
              "\n",
              "#sk-container-id-1 div.sk-label input.sk-toggleable__control:checked~label.sk-toggleable__label {\n",
              "  color: var(--sklearn-color-text);\n",
              "  background-color: var(--sklearn-color-unfitted-level-2);\n",
              "}\n",
              "\n",
              "#sk-container-id-1 div.sk-label.fitted input.sk-toggleable__control:checked~label.sk-toggleable__label {\n",
              "  background-color: var(--sklearn-color-fitted-level-2);\n",
              "}\n",
              "\n",
              "/* Estimator-specific style */\n",
              "\n",
              "/* Colorize estimator box */\n",
              "#sk-container-id-1 div.sk-estimator input.sk-toggleable__control:checked~label.sk-toggleable__label {\n",
              "  /* unfitted */\n",
              "  background-color: var(--sklearn-color-unfitted-level-2);\n",
              "}\n",
              "\n",
              "#sk-container-id-1 div.sk-estimator.fitted input.sk-toggleable__control:checked~label.sk-toggleable__label {\n",
              "  /* fitted */\n",
              "  background-color: var(--sklearn-color-fitted-level-2);\n",
              "}\n",
              "\n",
              "#sk-container-id-1 div.sk-label label.sk-toggleable__label,\n",
              "#sk-container-id-1 div.sk-label label {\n",
              "  /* The background is the default theme color */\n",
              "  color: var(--sklearn-color-text-on-default-background);\n",
              "}\n",
              "\n",
              "/* On hover, darken the color of the background */\n",
              "#sk-container-id-1 div.sk-label:hover label.sk-toggleable__label {\n",
              "  color: var(--sklearn-color-text);\n",
              "  background-color: var(--sklearn-color-unfitted-level-2);\n",
              "}\n",
              "\n",
              "/* Label box, darken color on hover, fitted */\n",
              "#sk-container-id-1 div.sk-label.fitted:hover label.sk-toggleable__label.fitted {\n",
              "  color: var(--sklearn-color-text);\n",
              "  background-color: var(--sklearn-color-fitted-level-2);\n",
              "}\n",
              "\n",
              "/* Estimator label */\n",
              "\n",
              "#sk-container-id-1 div.sk-label label {\n",
              "  font-family: monospace;\n",
              "  font-weight: bold;\n",
              "  display: inline-block;\n",
              "  line-height: 1.2em;\n",
              "}\n",
              "\n",
              "#sk-container-id-1 div.sk-label-container {\n",
              "  text-align: center;\n",
              "}\n",
              "\n",
              "/* Estimator-specific */\n",
              "#sk-container-id-1 div.sk-estimator {\n",
              "  font-family: monospace;\n",
              "  border: 1px dotted var(--sklearn-color-border-box);\n",
              "  border-radius: 0.25em;\n",
              "  box-sizing: border-box;\n",
              "  margin-bottom: 0.5em;\n",
              "  /* unfitted */\n",
              "  background-color: var(--sklearn-color-unfitted-level-0);\n",
              "}\n",
              "\n",
              "#sk-container-id-1 div.sk-estimator.fitted {\n",
              "  /* fitted */\n",
              "  background-color: var(--sklearn-color-fitted-level-0);\n",
              "}\n",
              "\n",
              "/* on hover */\n",
              "#sk-container-id-1 div.sk-estimator:hover {\n",
              "  /* unfitted */\n",
              "  background-color: var(--sklearn-color-unfitted-level-2);\n",
              "}\n",
              "\n",
              "#sk-container-id-1 div.sk-estimator.fitted:hover {\n",
              "  /* fitted */\n",
              "  background-color: var(--sklearn-color-fitted-level-2);\n",
              "}\n",
              "\n",
              "/* Specification for estimator info (e.g. \"i\" and \"?\") */\n",
              "\n",
              "/* Common style for \"i\" and \"?\" */\n",
              "\n",
              ".sk-estimator-doc-link,\n",
              "a:link.sk-estimator-doc-link,\n",
              "a:visited.sk-estimator-doc-link {\n",
              "  float: right;\n",
              "  font-size: smaller;\n",
              "  line-height: 1em;\n",
              "  font-family: monospace;\n",
              "  background-color: var(--sklearn-color-background);\n",
              "  border-radius: 1em;\n",
              "  height: 1em;\n",
              "  width: 1em;\n",
              "  text-decoration: none !important;\n",
              "  margin-left: 0.5em;\n",
              "  text-align: center;\n",
              "  /* unfitted */\n",
              "  border: var(--sklearn-color-unfitted-level-1) 1pt solid;\n",
              "  color: var(--sklearn-color-unfitted-level-1);\n",
              "}\n",
              "\n",
              ".sk-estimator-doc-link.fitted,\n",
              "a:link.sk-estimator-doc-link.fitted,\n",
              "a:visited.sk-estimator-doc-link.fitted {\n",
              "  /* fitted */\n",
              "  border: var(--sklearn-color-fitted-level-1) 1pt solid;\n",
              "  color: var(--sklearn-color-fitted-level-1);\n",
              "}\n",
              "\n",
              "/* On hover */\n",
              "div.sk-estimator:hover .sk-estimator-doc-link:hover,\n",
              ".sk-estimator-doc-link:hover,\n",
              "div.sk-label-container:hover .sk-estimator-doc-link:hover,\n",
              ".sk-estimator-doc-link:hover {\n",
              "  /* unfitted */\n",
              "  background-color: var(--sklearn-color-unfitted-level-3);\n",
              "  color: var(--sklearn-color-background);\n",
              "  text-decoration: none;\n",
              "}\n",
              "\n",
              "div.sk-estimator.fitted:hover .sk-estimator-doc-link.fitted:hover,\n",
              ".sk-estimator-doc-link.fitted:hover,\n",
              "div.sk-label-container:hover .sk-estimator-doc-link.fitted:hover,\n",
              ".sk-estimator-doc-link.fitted:hover {\n",
              "  /* fitted */\n",
              "  background-color: var(--sklearn-color-fitted-level-3);\n",
              "  color: var(--sklearn-color-background);\n",
              "  text-decoration: none;\n",
              "}\n",
              "\n",
              "/* Span, style for the box shown on hovering the info icon */\n",
              ".sk-estimator-doc-link span {\n",
              "  display: none;\n",
              "  z-index: 9999;\n",
              "  position: relative;\n",
              "  font-weight: normal;\n",
              "  right: .2ex;\n",
              "  padding: .5ex;\n",
              "  margin: .5ex;\n",
              "  width: min-content;\n",
              "  min-width: 20ex;\n",
              "  max-width: 50ex;\n",
              "  color: var(--sklearn-color-text);\n",
              "  box-shadow: 2pt 2pt 4pt #999;\n",
              "  /* unfitted */\n",
              "  background: var(--sklearn-color-unfitted-level-0);\n",
              "  border: .5pt solid var(--sklearn-color-unfitted-level-3);\n",
              "}\n",
              "\n",
              ".sk-estimator-doc-link.fitted span {\n",
              "  /* fitted */\n",
              "  background: var(--sklearn-color-fitted-level-0);\n",
              "  border: var(--sklearn-color-fitted-level-3);\n",
              "}\n",
              "\n",
              ".sk-estimator-doc-link:hover span {\n",
              "  display: block;\n",
              "}\n",
              "\n",
              "/* \"?\"-specific style due to the `<a>` HTML tag */\n",
              "\n",
              "#sk-container-id-1 a.estimator_doc_link {\n",
              "  float: right;\n",
              "  font-size: 1rem;\n",
              "  line-height: 1em;\n",
              "  font-family: monospace;\n",
              "  background-color: var(--sklearn-color-background);\n",
              "  border-radius: 1rem;\n",
              "  height: 1rem;\n",
              "  width: 1rem;\n",
              "  text-decoration: none;\n",
              "  /* unfitted */\n",
              "  color: var(--sklearn-color-unfitted-level-1);\n",
              "  border: var(--sklearn-color-unfitted-level-1) 1pt solid;\n",
              "}\n",
              "\n",
              "#sk-container-id-1 a.estimator_doc_link.fitted {\n",
              "  /* fitted */\n",
              "  border: var(--sklearn-color-fitted-level-1) 1pt solid;\n",
              "  color: var(--sklearn-color-fitted-level-1);\n",
              "}\n",
              "\n",
              "/* On hover */\n",
              "#sk-container-id-1 a.estimator_doc_link:hover {\n",
              "  /* unfitted */\n",
              "  background-color: var(--sklearn-color-unfitted-level-3);\n",
              "  color: var(--sklearn-color-background);\n",
              "  text-decoration: none;\n",
              "}\n",
              "\n",
              "#sk-container-id-1 a.estimator_doc_link.fitted:hover {\n",
              "  /* fitted */\n",
              "  background-color: var(--sklearn-color-fitted-level-3);\n",
              "}\n",
              "</style><div id=\"sk-container-id-1\" class=\"sk-top-container\"><div class=\"sk-text-repr-fallback\"><pre>LogisticRegression()</pre><b>In a Jupyter environment, please rerun this cell to show the HTML representation or trust the notebook. <br />On GitHub, the HTML representation is unable to render, please try loading this page with nbviewer.org.</b></div><div class=\"sk-container\" hidden><div class=\"sk-item\"><div class=\"sk-estimator fitted sk-toggleable\"><input class=\"sk-toggleable__control sk-hidden--visually\" id=\"sk-estimator-id-1\" type=\"checkbox\" checked><label for=\"sk-estimator-id-1\" class=\"sk-toggleable__label fitted sk-toggleable__label-arrow\"><div><div>LogisticRegression</div></div><div><a class=\"sk-estimator-doc-link fitted\" rel=\"noreferrer\" target=\"_blank\" href=\"https://scikit-learn.org/1.6/modules/generated/sklearn.linear_model.LogisticRegression.html\">?<span>Documentation for LogisticRegression</span></a><span class=\"sk-estimator-doc-link fitted\">i<span>Fitted</span></span></div></label><div class=\"sk-toggleable__content fitted\"><pre>LogisticRegression()</pre></div> </div></div></div></div>"
            ]
          },
          "metadata": {},
          "execution_count": 7
        }
      ]
    },
    {
      "cell_type": "code",
      "source": [
        "y_pred_1=model_1.predict(X_test)\n",
        "print('Confusion Matrix :\\n', confusion_matrix(y_test, y_pred_1))\n",
        "print(classification_report(y_test, y_pred_1))\n",
        "print(\"Accuracy = \", accuracy_score(y_test, y_pred_1))\n",
        "print(\"Precision = \", precision_score(y_test, y_pred_1))\n",
        "print(\"Recall = \", recall_score(y_test, y_pred_1))\n",
        "print(\"F1 score = \", f1_score(y_test, y_pred_1))"
      ],
      "metadata": {
        "colab": {
          "base_uri": "https://localhost:8080/"
        },
        "id": "tmPadonaIYrI",
        "outputId": "010a0eaa-0795-43de-dfe6-6033826e0c7e"
      },
      "execution_count": 8,
      "outputs": [
        {
          "output_type": "stream",
          "name": "stdout",
          "text": [
            "Confusion Matrix :\n",
            " [[56832    32]\n",
            " [   26    72]]\n",
            "              precision    recall  f1-score   support\n",
            "\n",
            "           0       1.00      1.00      1.00     56864\n",
            "           1       0.69      0.73      0.71        98\n",
            "\n",
            "    accuracy                           1.00     56962\n",
            "   macro avg       0.85      0.87      0.86     56962\n",
            "weighted avg       1.00      1.00      1.00     56962\n",
            "\n",
            "Accuracy =  0.9989817773252344\n",
            "Precision =  0.6923076923076923\n",
            "Recall =  0.7346938775510204\n",
            "F1 score =  0.7128712871287128\n"
          ]
        }
      ]
    },
    {
      "cell_type": "markdown",
      "source": [
        "# Part B : Gaussian Mixture Model for Synthetic Sampling"
      ],
      "metadata": {
        "id": "DG2KkROfJKU-"
      }
    },
    {
      "cell_type": "markdown",
      "source": [
        "Gaussian Mixture Model is a probabilistic clustering technique that models the minority class as a combination of multiple Gaussian distributions from which synthetic samples are then drawn. Synthetic Minority Oversampling Technique (SMOTE) works by creating synthetic samples for the minority class by linear interpolation. The fundamental difference is that Gaussian Mixture Model samples from a probabilistic density estimation of the minority samples, while simpler methods sample points directly from the feature space, through linear interpolation, clustering etc."
      ],
      "metadata": {
        "id": "JBQy-oiPGnmB"
      }
    },
    {
      "cell_type": "markdown",
      "source": [
        "GMM is theoretically better at capturing the underlying data distribution, especially for the minority class with multiple sub-groups or complex shapes, due to its probabilistic and flexible modeling approach.\n",
        "\n",
        "*   GMM models data as a mixture of Gaussians, allowing it to capture overlapping sub-groups or clusters within the minority class, even if they overlap or have distinct statistical properties. Each Gaussian component cna capture a separate region of the feature space, making it effective for complex, multimodal distributions.\n",
        "*   GMM allows for elliptical clusters with varying orientations, sizes and covariances. The use of full covariance matrices allows GMM to represent the true geometrical structure and orientation of clusters, even if they are not spherical."
      ],
      "metadata": {
        "id": "afQBAnztNudi"
      }
    },
    {
      "cell_type": "code",
      "source": [
        "X_minority=X_train[y_train==1]\n",
        "y_minority=y_train[y_train==1]\n",
        "n_components=np.arange(1, 51)\n",
        "models=[GaussianMixture(k, covariance_type='full').fit(X_minority) for k in n_components]\n",
        "bic_results=[gmm.bic(X_minority) for gmm in models]\n",
        "aic_results=[gmm.aic(X_minority) for gmm in models]\n",
        "plt.plot(n_components, bic_results, label=\"BIC\")\n",
        "plt.plot(n_components, aic_results, label=\"AIC\")\n",
        "plt.xlabel('No. of components')\n",
        "plt.ylabel('BIC/AIC Curve')\n",
        "plt.title('BIC to determine optimal number of components')\n",
        "plt.grid(True, linestyle='--', alpha=0.7)\n",
        "plt.legend(title='Criterion')\n",
        "plt.show()"
      ],
      "metadata": {
        "colab": {
          "base_uri": "https://localhost:8080/",
          "height": 472
        },
        "id": "dezvFaetI6dq",
        "outputId": "35737878-9585-4999-cffd-f9d645d64b71"
      },
      "execution_count": 9,
      "outputs": [
        {
          "output_type": "display_data",
          "data": {
            "text/plain": [
              "<Figure size 640x480 with 1 Axes>"
            ],
            "image/png": "[encoded data removed]"
          },
          "metadata": {}
        }
      ]
    },
    {
      "cell_type": "markdown",
      "source": [
        "Optimal number of components is decided by the minima (elbow) of the BIC curve"
      ],
      "metadata": {
        "id": "UgqNzqWdxD2u"
      }
    },
    {
      "cell_type": "code",
      "source": [
        "optimal_components=np.argmin(bic_results)\n",
        "print(optimal_components)"
      ],
      "metadata": {
        "colab": {
          "base_uri": "https://localhost:8080/"
        },
        "id": "gfE21EQMX86Z",
        "outputId": "e9bc0d7a-35bf-4a64-ab9e-775b00e629ca"
      },
      "execution_count": 10,
      "outputs": [
        {
          "output_type": "stream",
          "name": "stdout",
          "text": [
            "18\n"
          ]
        }
      ]
    },
    {
      "cell_type": "code",
      "source": [
        "optimal_model=GaussianMixture(n_components=optimal_components, covariance_type='full').fit(X_minority)\n",
        "n_maj=(y_train==0).sum()\n",
        "n_min=(y_train==1).sum()\n",
        "n_samples=n_maj-n_min\n",
        "X_synthetic, y_synthetic = optimal_model.sample(n_samples)\n",
        "y_synthetic=np.ones(len(X_synthetic))\n",
        "X_synthetic=pd.DataFrame(X_synthetic, columns=X_train.columns)\n",
        "X_train_gmm=pd.concat([X_train, X_synthetic], ignore_index=True)\n",
        "y_train_gmm=pd.concat([y_train, pd.Series(y_synthetic)])\n",
        "print(\"Before synthetic sampling = \", y_train.value_counts())\n",
        "print(\"After synthetic sampling = \", y_train_gmm.value_counts())"
      ],
      "metadata": {
        "colab": {
          "base_uri": "https://localhost:8080/"
        },
        "id": "sD2Lyuj8aFE1",
        "outputId": "8b2fbb81-17b3-478f-895e-c528d8e3c340"
      },
      "execution_count": 11,
      "outputs": [
        {
          "output_type": "stream",
          "name": "stdout",
          "text": [
            "Before synthetic sampling =  Class\n",
            "0    227451\n",
            "1       394\n",
            "Name: count, dtype: int64\n",
            "After synthetic sampling =  0.0    227451\n",
            "1.0    227451\n",
            "Name: count, dtype: int64\n"
          ]
        }
      ]
    },
    {
      "cell_type": "markdown",
      "source": [
        "Sampling from a Gaussian Mixture Model :\n",
        "\n",
        "*   First, a single Gaussian component is selected at random according to the mixture weights, which describe the probability of choosing each component in the mixture\n",
        "*   After selecting a component, a sample is drawn from that component’s Gaussian distribution, defined by its specific mean and covariance\n",
        "\n"
      ],
      "metadata": {
        "id": "IoE9hrx3xMuv"
      }
    },
    {
      "cell_type": "code",
      "source": [
        "X_majority=X_train[y_train==0]\n",
        "y_majority=y_train[y_train==0]\n",
        "majority_size=int(np.sqrt(len(X_majority)))\n",
        "sampling_strat={0 : majority_size, 1 : len(X_minority)}\n",
        "undersampling=ClusterCentroids(sampling_strategy=sampling_strat, random_state=42, estimator=KMeans()) # uses K-Means to find the clusters within the training data of the majority class\n",
        "X_under, y_under=undersampling.fit_resample(X_train, y_train)\n",
        "X_maj_under=X_under[y_under==0]\n",
        "y_maj_under=y_under[y_under==0]\n",
        "n_major=len(y_maj_under)\n",
        "n_minor=len(X_minority)\n",
        "n=n_major-n_minor\n",
        "print(n)\n",
        "X_syn_over, y_syn_over = optimal_model.sample(n)\n",
        "y_syn_over=np.ones(len(X_syn_over))\n",
        "X_syn_over=pd.DataFrame(X_syn_over, columns=X_train.columns)\n",
        "X_train_cbu_gmm=pd.concat([X_maj_under, X_minority, X_syn_over], ignore_index=True)\n",
        "y_train_cbu_gmm=pd.concat([y_maj_under, y_minority, pd.Series(y_syn_over)])\n",
        "print(\"Before CBU + GMM rebalancing = \", y_train.value_counts())\n",
        "print(\"After CBU + GMM rebalancing = \", y_train_cbu_gmm.value_counts())"
      ],
      "metadata": {
        "colab": {
          "base_uri": "https://localhost:8080/"
        },
        "id": "FzgmKYTDwl4H",
        "outputId": "85fa37ed-e4d7-4a39-e4ac-41bb8d6a9126"
      },
      "execution_count": 28,
      "outputs": [
        {
          "output_type": "stream",
          "name": "stdout",
          "text": [
            "82\n",
            "Before CBU + GMM rebalancing =  Class\n",
            "0    227451\n",
            "1       394\n",
            "Name: count, dtype: int64\n",
            "After CBU + GMM rebalancing =  0.0    476\n",
            "1.0    476\n",
            "Name: count, dtype: int64\n"
          ]
        },
        {
          "output_type": "stream",
          "name": "stderr",
          "text": [
            "/usr/local/lib/python3.12/dist-packages/sklearn/base.py:1389: ConvergenceWarning: Number of distinct clusters (383) found smaller than n_clusters (394). Possibly due to duplicate points in X.\n",
            "  return fit_method(estimator, *args, **kwargs)\n"
          ]
        }
      ]
    },
    {
      "cell_type": "code",
      "source": [],
      "metadata": {
        "id": "xcH_dPSByVbM"
      },
      "execution_count": 12,
      "outputs": []
    },
    {
      "cell_type": "code",
      "source": [
        "model_2=LogisticRegression()\n",
        "model_2.fit(X_train_gmm, y_train_gmm)\n",
        "y_pred_2=model_2.predict(X_test)\n",
        "print('Confusion Matrix :\\n', confusion_matrix(y_test, y_pred_2))\n",
        "print(classification_report(y_test, y_pred_2))\n",
        "print(\"Accuracy = \", accuracy_score(y_test, y_pred_2))\n",
        "print(\"Precision = \", precision_score(y_test, y_pred_2))\n",
        "print(\"Recall = \", recall_score(y_test, y_pred_2))\n",
        "print(\"F1 score = \", f1_score(y_test, y_pred_2))"
      ],
      "metadata": {
        "colab": {
          "base_uri": "https://localhost:8080/"
        },
        "id": "jWRbsRhZ0KP2",
        "outputId": "ba1474f0-a4af-476b-a7d8-787643c5207d"
      },
      "execution_count": 29,
      "outputs": [
        {
          "output_type": "stream",
          "name": "stdout",
          "text": [
            "Confusion Matrix :\n",
            " [[55286  1578]\n",
            " [    9    89]]\n",
            "              precision    recall  f1-score   support\n",
            "\n",
            "           0       1.00      0.97      0.99     56864\n",
            "           1       0.05      0.91      0.10        98\n",
            "\n",
            "    accuracy                           0.97     56962\n",
            "   macro avg       0.53      0.94      0.54     56962\n",
            "weighted avg       1.00      0.97      0.98     56962\n",
            "\n",
            "Accuracy =  0.9721393209508093\n",
            "Precision =  0.05338932213557288\n",
            "Recall =  0.9081632653061225\n",
            "F1 score =  0.1008498583569405\n"
          ]
        },
        {
          "output_type": "stream",
          "name": "stderr",
          "text": [
            "/usr/local/lib/python3.12/dist-packages/sklearn/linear_model/_logistic.py:465: ConvergenceWarning: lbfgs failed to converge (status=1):\n",
            "STOP: TOTAL NO. OF ITERATIONS REACHED LIMIT.\n",
            "\n",
            "Increase the number of iterations (max_iter) or scale the data as shown in:\n",
            "    https://scikit-learn.org/stable/modules/preprocessing.html\n",
            "Please also refer to the documentation for alternative solver options:\n",
            "    https://scikit-learn.org/stable/modules/linear_model.html#logistic-regression\n",
            "  n_iter_i = _check_optimize_result(\n"
          ]
        }
      ]
    },
    {
      "cell_type": "code",
      "source": [
        "model_3=LogisticRegression()\n",
        "model_3.fit(X_train_cbu_gmm, y_train_cbu_gmm)\n",
        "y_pred_3=model_3.predict(X_test)\n",
        "print('Confusion Matrix :\\n', confusion_matrix(y_test, y_pred_3))\n",
        "print(classification_report(y_test, y_pred_3))\n",
        "print(\"Accuracy = \", accuracy_score(y_test, y_pred_3))\n",
        "print(\"Precision = \", precision_score(y_test, y_pred_3))\n",
        "print(\"Recall = \", recall_score(y_test, y_pred_3))\n",
        "print(\"F1 score = \", f1_score(y_test, y_pred_3))"
      ],
      "metadata": {
        "colab": {
          "base_uri": "https://localhost:8080/"
        },
        "id": "nnL9t3jm0TL4",
        "outputId": "c584167e-2af1-4728-9592-0f8dac443a07"
      },
      "execution_count": 14,
      "outputs": [
        {
          "output_type": "stream",
          "name": "stdout",
          "text": [
            "Confusion Matrix :\n",
            " [[49440  7424]\n",
            " [    7    91]]\n",
            "              precision    recall  f1-score   support\n",
            "\n",
            "           0       1.00      0.87      0.93     56864\n",
            "           1       0.01      0.93      0.02        98\n",
            "\n",
            "    accuracy                           0.87     56962\n",
            "   macro avg       0.51      0.90      0.48     56962\n",
            "weighted avg       1.00      0.87      0.93     56962\n",
            "\n",
            "Accuracy =  0.8695446086864927\n",
            "Precision =  0.01210911510312708\n",
            "Recall =  0.9285714285714286\n",
            "F1 score =  0.023906475765138577\n"
          ]
        },
        {
          "output_type": "stream",
          "name": "stderr",
          "text": [
            "/usr/local/lib/python3.12/dist-packages/sklearn/linear_model/_logistic.py:465: ConvergenceWarning: lbfgs failed to converge (status=1):\n",
            "STOP: TOTAL NO. OF ITERATIONS REACHED LIMIT.\n",
            "\n",
            "Increase the number of iterations (max_iter) or scale the data as shown in:\n",
            "    https://scikit-learn.org/stable/modules/preprocessing.html\n",
            "Please also refer to the documentation for alternative solver options:\n",
            "    https://scikit-learn.org/stable/modules/linear_model.html#logistic-regression\n",
            "  n_iter_i = _check_optimize_result(\n"
          ]
        }
      ]
    },
    {
      "cell_type": "code",
      "source": [
        "results={\n",
        "    \"Baseline\" : {\"Precision\" : precision_score(y_test, y_pred_1), \"Recall\" : recall_score(y_test, y_pred_1), \"F1 score\" : f1_score(y_test, y_pred_1)},\n",
        "    \"GMM\" : {\"Precision\" : precision_score(y_test, y_pred_2), \"Recall\" : recall_score(y_test, y_pred_2), \"F1 score\" : f1_score(y_test, y_pred_2)},\n",
        "    \"CBU + GMM\" : {\"Precision\" : precision_score(y_test, y_pred_3), \"Recall\" : recall_score(y_test, y_pred_3), \"F1 score\" : f1_score(y_test, y_pred_3)}\n",
        "}\n",
        "\n",
        "results_df=pd.DataFrame(results).T\n",
        "print(results_df)"
      ],
      "metadata": {
        "colab": {
          "base_uri": "https://localhost:8080/"
        },
        "id": "h-Ke2RhN1p-e",
        "outputId": "1b112240-058d-4900-db4f-e7ad8eea2ca4"
      },
      "execution_count": 15,
      "outputs": [
        {
          "output_type": "stream",
          "name": "stdout",
          "text": [
            "           Precision    Recall  F1 score\n",
            "Baseline    0.692308  0.734694  0.712871\n",
            "GMM         0.053389  0.908163  0.100850\n",
            "CBU + GMM   0.012109  0.928571  0.023906\n"
          ]
        }
      ]
    },
    {
      "cell_type": "code",
      "source": [
        "results_df.plot(kind=\"bar\")\n",
        "plt.ylabel(\"Score\")\n",
        "plt.title(\"Comparison of Precision, Recall and F1 score\")\n",
        "plt.xticks(rotation=0)\n",
        "plt.ylim(0, 1)\n",
        "plt.legend(title=\"Metric\")\n",
        "plt.grid(True, linestyle='--', alpha=0.7)\n",
        "plt.show()"
      ],
      "metadata": {
        "colab": {
          "base_uri": "https://localhost:8080/",
          "height": 452
        },
        "id": "spVrbQzh1tVS",
        "outputId": "acf58239-18a6-43c2-debb-f4f7d42341bc"
      },
      "execution_count": 16,
      "outputs": [
        {
          "output_type": "display_data",
          "data": {
            "text/plain": [
              "<Figure size 640x480 with 1 Axes>"
            ],
            "image/png": "[encoded data removed]"
          },
          "metadata": {}
        }
      ]
    },
    {
      "cell_type": "markdown",
      "source": [
        "The comparison of performance metrics show that the recall score (the proportion of actual fraud cases that were correctly identified as fraud by the model) has improved significantly by the GMM-based oversampling technique and the combination of clustering-based undersampling and GMM-based oversampling. Thus, both the methods improve the model's ability to detect the minority class."
      ],
      "metadata": {
        "id": "9Nd2eL0myzsi"
      }
    },
    {
      "cell_type": "markdown",
      "source": [
        "**Final recommendation** : The aim of the company is to maximize the prediction of fraudulent transactions. Hence the model with the maximum recall score (the proportion of actual fraud cases that were correctly identified as fraud by the model) is the best performing model. From the performance metrics, it can be observed that the **CBU + GMM** model is the best performing model in terms of the recall score. Theoretically, this can be attributed to the reduction in redundant majority class samples by clustering based undersampling and a proportionate increase in the number of minority class samples, making the dataset more balanced"
      ],
      "metadata": {
        "id": "H1oUbP_33fzs"
      }
    },
    {
      "cell_type": "markdown",
      "source": [
        "However, it comes at a significant cost of reduction in the precision, which can be improved by tuning the Logistic Regression threshold or other hyperparameters. The CBU + GMM performance can be improved by iterating over different ratios of the split and choosing the one that maximizes the performance"
      ],
      "metadata": {
        "id": "ExUXxQyq4w9N"
      }
    }
  ]
}